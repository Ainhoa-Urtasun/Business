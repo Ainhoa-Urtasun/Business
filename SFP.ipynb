{
  "nbformat": 4,
  "nbformat_minor": 0,
  "metadata": {
    "colab": {
      "name": "SFP.ipynb",
      "provenance": [],
      "authorship_tag": "ABX9TyPouH94nMNskGZzRKzOZqrt",
      "include_colab_link": true
    },
    "kernelspec": {
      "name": "python3",
      "display_name": "Python 3"
    },
    "language_info": {
      "name": "python"
    }
  },
  "cells": [
    {
      "cell_type": "markdown",
      "metadata": {
        "id": "view-in-github",
        "colab_type": "text"
      },
      "source": [
        "<a href=\"https://colab.research.google.com/github/Ainhoa-Urtasun/Business/blob/main/SFP.ipynb\" target=\"_parent\"><img src=\"https://colab.research.google.com/assets/colab-badge.svg\" alt=\"Open In Colab\"/></a>"
      ]
    },
    {
      "cell_type": "code",
      "source": [
        "import matplotlib.pyplot as plt\n",
        "\n",
        "Tangible_fixed_assets = 0\n",
        "Accumulated_depreciation = 0\n",
        "Stocks = 0\n",
        "Debtors = 0\n",
        "Cash = 0\n",
        "Capital = 0\n",
        "Revenue= 0\n",
        "Expenses = 0\n",
        "Dividends = 0\n",
        "Noncurrent_liabilities = 0\n",
        "Current_liabilities = 0\n",
        "\n",
        "def Balance_sheet(): \n",
        "  Fixed_assets = Tangible_fixed_assets + Accumulated_depreciation\n",
        "  Current_assets = Stocks + Debtors + Cash\n",
        "  Retained_earnings = Revenue + Expenses + Dividends\n",
        "  fig = plt.figure(figsize=(5,8))\n",
        "  labels = ['Assets','Equity and liabilities']\n",
        "  plt.bar(labels,[Current_assets,Current_liabilities])\n",
        "  plt.bar(labels,[Fixed_assets,Noncurrent_liabilities],bottom=[Current_assets,Current_liabilities])\n",
        "  plt.bar(labels,[0,Retained_earnings],bottom=[Current_assets+Fixed_assets,Current_liabilities+Noncurrent_liabilities])\n",
        "  plt.bar(labels,[0,Capital],bottom=[Current_assets+Fixed_assets,Current_liabilities+Noncurrent_liabilities+Retained_earnings])\n",
        "  plt.title('Balance sheet')\n",
        "  if Current_assets > 0:\n",
        "    plt.text(0,Current_assets*0.5,'Current assets\\n'+str(Current_assets),va='center',ha='center')\n",
        "  if Fixed_assets > 0:\n",
        "    plt.text(0,Fixed_assets*0.5+Current_assets,'Fixed assets\\n'+str(Fixed_assets),va='center',ha='center')\n",
        "  if Current_liabilities > 0:\n",
        "    plt.text(1,Current_liabilities*0.5,'Current liabilities\\n'+str(Current_liabilities),va='center',ha='center')\n",
        "  if Noncurrent_liabilities > 0:\n",
        "    plt.text(1,Noncurrent_liabilities*0.5+Current_liabilities,'Noncurrent liabilities\\n'+str(Noncurrent_liabilities),va='center',ha='center')\n",
        "  if Retained_earnings > 0:\n",
        "    plt.text(1,Retained_earnings*0.5+Noncurrent_liabilities+Current_liabilities,'Retained earnings\\n'+str(Retained_earnings),va='center',ha='center')\n",
        "  if Capital > 0:\n",
        "    plt.text(1,Capital*0.5+Retained_earnings+Noncurrent_liabilities+Current_liabilities,'Capital\\n'+str(Capital),va='center',ha='center')\n",
        "  plt.show()"
      ],
      "metadata": {
        "id": "_FIcVdSV3x-T"
      },
      "execution_count": 1,
      "outputs": []
    }
  ]
}